{
 "cells": [
  {
   "cell_type": "markdown",
   "metadata": {},
   "source": [
    "# k近邻法\n",
    "\n",
    "K 最近邻(k-Nearest Neighbor，KNN)分类算法，是一个理论上比较成熟的方法，也是最简单的机器学习算法之一。\n",
    "\n",
    "该方法的思路是：如果一个样本在特征空间中的k个最相似（即特征空间中最邻近）的样本中的大多数属于某一个类别，则该样本也属于这个类别。\n",
    "\n",
    "## 1.1 k近邻算法\n",
    "* 输入：训练数据集\n",
    "\n",
    "    $T = \\{(x_1, y_1), (x_2, y_2),\\cdots, (x_N, y_N)\\}$\n",
    "\n",
    "    其中，$x_i\\subseteq R^n$ 为实例的特征向量，$y_i\\in\\{c_1,c_2,\\cdots,c_k\\}$ 为实例的类别。\n",
    "\n",
    "\n",
    "* 输出：实例 $x$ 所属的类别\n",
    "\n",
    "（1） 根据给定的距离度量，在训练集 $T$ 中找出与 $x$ 最近邻的 $k$ 个点，涵盖这 $k$ 个点的 x 的邻域记作 $N_k(x)$；\n",
    "\n",
    "（2） 在 $N_k(x)$ 中根据分类决策规则（如多数表决）决定 $x$ 的类别 $y$：\n",
    "\n",
    "$y=\\arg \\max_{c_j} \\sum_{x_i\\in N_k(x)} I(y_i=c_i), \\quad i=1,2,\\ldots,N; \\quad j=1,2,\\ldots,K$\n",
    "\n",
    "其中，$I$ 为只是函数，当 $y_i=c_i$ 时 $I$ 为 1，否则 $I$ 为0。\n"
   ]
  },
  {
   "cell_type": "markdown",
   "metadata": {},
   "source": [
    "## 1.2 k近邻模型\n",
    "\n",
    "k 近邻模型由3个基本要素决定：距离度量、k 值选择和分类决策规则。\n",
    "\n",
    "### 1.21 距离度量\n",
    "\n",
    "特征空间中两个实例点的距离是其相似程度的反映。k 近邻模型的特征空间一般是 n 维实数向量空间 $R^n$。使用的距离是欧式距离，或其他距离，如 $L_p$ 距离。\n",
    "\n",
    "$L_p$ 距离定义如下："
   ]
  },
  {
   "cell_type": "code",
   "execution_count": 1,
   "metadata": {},
   "outputs": [],
   "source": [
    "import numpy as np\n",
    "def distance(point, data, p):\n",
    "    if p < 1:\n",
    "        raise ValueError('p >= 1')\n",
    "    if p == float('inf'):\n",
    "        return np.amax(np.abs(data - point))\n",
    "    elif p == 1:\n",
    "        return np.sum(np.abs(data - point), axis=1)\n",
    "    else:\n",
    "        return np.power(np.sum(np.abs(data - point) ** p, axis=1), 1/p)"
   ]
  },
  {
   "cell_type": "markdown",
   "metadata": {},
   "source": [
    "### 1.22 k值的选择\n",
    "\n",
    "k 值的选择会对结果产生重大影响。\n",
    "\n",
    "选择小的 k 值，对应的近似误差（approximation error）会减小，只有与输入实例较近的训练实例才会对预测结果起作用。但缺点是估计误差（estimation error）会增大，预测结果对近邻的实例点非常敏感。如果邻近的点恰巧是噪声，预测就会出错。\n",
    "\n",
    "k 值的减小意味着整体模型变得复杂，容易发生过拟合。k 值增大意味着模型变得简单，近似误差增大。"
   ]
  },
  {
   "cell_type": "markdown",
   "metadata": {},
   "source": [
    "### 1.23 分类决策规则\n",
    "\n",
    "一般采用多数表决，决策结果由输入实例的 k 个邻近的训练实例的多数类决定。下面的决策函数返回 k 个近邻标签中出现次数最多的1个标签。"
   ]
  },
  {
   "cell_type": "code",
   "execution_count": 2,
   "metadata": {},
   "outputs": [],
   "source": [
    "def decision(labels_list):\n",
    "    count = np.bincount(labels_list)\n",
    "    return np.argmax(count)"
   ]
  },
  {
   "cell_type": "markdown",
   "metadata": {},
   "source": [
    "其中，`np.bincount(x)` 函数返回一个长度为 `max(x)+1` 的序列，`np.bincount(x)[i]` 的值为数字 `i` 在 `x` 中出现的次数。因此，`count` 中最大值的索引值即为 `labels_list` 中出现最多次的值。当然，此分类规则还很粗糙，考虑细致点，可引入投票权重，即越近的点权重最大，越远的点权重越小。"
   ]
  },
  {
   "cell_type": "markdown",
   "metadata": {},
   "source": [
    "## 2.1 k近邻简单实现\n",
    "\n",
    "此处不仅返回了标签，还返回了距离和点的具体值。"
   ]
  },
  {
   "cell_type": "code",
   "execution_count": 3,
   "metadata": {},
   "outputs": [],
   "source": [
    "def knn(point, data, k, p, labels=[]):\n",
    "    '''\n",
    "    输入：point: 输入实例点，np.array()格式；data: 数据集，np.array()格式；\n",
    "        labels：数据集data的标签，np.array()格式；k: 近邻点数量；p: Lp距离量度。\n",
    "    输出：dist_list：k个最小距离；point_list：k个近邻点；labels_list：对应标签；\n",
    "        均为np.array()格式。\n",
    "    '''\n",
    "    dist_all = distance(point, data, p)\n",
    "    sort_list = np.argsort(dist_all)\n",
    "    dist_list = dist_all[sort_list][:k]\n",
    "    point_list = data[sort_list][:k]\n",
    "    labels_list = None\n",
    "    if len(labels):\n",
    "        labels_list = labels[sort_list][:k]   \n",
    "    return dist_list, point_list, labels_list"
   ]
  },
  {
   "cell_type": "markdown",
   "metadata": {},
   "source": [
    "## 2.2 结果分析\n",
    "\n",
    "手写数字识别数据集 [MNIST](http://yann.lecun.com/exdb/mnist/) 是机器学习中常用来作为训练测试数据的一个经典数据集。[MNIST](http://yann.lecun.com/exdb/mnist/) 数据集中所有图片用28 * 28的矩阵表示，矩阵中的每个值在 0-255 之间。可从 [MNIST]( http://yann.lecun.com/exdb/mnist/) 下载。\n",
    "\n",
    "首先需要读取 MNIST 数据，并转化为 `np.array()` 格式，以便于处理。这里读取 MNIST 数据直接采用别人已经写好的`mnist`包，这个包可以通过 `pip install python-mnist` 安装。\n",
    "\n",
    "但是，值得注意的是，包中默认的 MNSIST 读取文件名为 `t10k-images-idx3-ubyte`，然而实际从 MNIST 网站下载的数据包文件名为 `t10k-images.idx3-ubyte`，所以需要改一下下载的数据包名称，或者改包中的源码。"
   ]
  },
  {
   "cell_type": "code",
   "execution_count": 4,
   "metadata": {},
   "outputs": [],
   "source": [
    "from mnist import MNIST\n",
    "\n",
    "mndata = MNIST('.\\mnist')\n",
    "imdata, imlab = mndata.load_training()\n",
    "tsdata, tslab = mndata.load_testing()\n",
    "\n",
    "imdata_ar = np.array(imdata)\n",
    "imlab_ar = np.array(imlab)\n",
    "tsdata_ar = np.array(tsdata)"
   ]
  },
  {
   "cell_type": "code",
   "execution_count": 5,
   "metadata": {},
   "outputs": [
    {
     "name": "stdout",
     "output_type": "stream",
     "text": [
      "训练数据的长度为： 60000\n",
      "每个样本的维数为： 784\n",
      "第一个数据的具体值为： [0, 0, 0, 0, 0, 0, 0, 0, 0, 0, 0, 0, 0, 0, 0, 0, 0, 0, 0, 0, 0, 0, 0, 0, 0, 0, 0, 0, 0, 0, 0, 0, 0, 0, 0, 0, 0, 0, 0, 0, 0, 0, 0, 0, 0, 0, 0, 0, 0, 0, 0, 0, 0, 0, 0, 0, 0, 0, 0, 0, 0, 0, 0, 0, 0, 0, 0, 0, 0, 0, 0, 0, 0, 0, 0, 0, 0, 0, 0, 0, 0, 0, 0, 0, 0, 0, 0, 0, 0, 0, 0, 0, 0, 0, 0, 0, 0, 0, 0, 0, 0, 0, 0, 0, 0, 0, 0, 0, 0, 0, 0, 0, 0, 0, 0, 0, 0, 0, 0, 0, 0, 0, 0, 0, 0, 0, 0, 0, 0, 0, 0, 0, 0, 0, 0, 0, 0, 0, 0, 0, 0, 0, 0, 0, 0, 0, 0, 0, 0, 0, 0, 0, 3, 18, 18, 18, 126, 136, 175, 26, 166, 255, 247, 127, 0, 0, 0, 0, 0, 0, 0, 0, 0, 0, 0, 0, 30, 36, 94, 154, 170, 253, 253, 253, 253, 253, 225, 172, 253, 242, 195, 64, 0, 0, 0, 0, 0, 0, 0, 0, 0, 0, 0, 49, 238, 253, 253, 253, 253, 253, 253, 253, 253, 251, 93, 82, 82, 56, 39, 0, 0, 0, 0, 0, 0, 0, 0, 0, 0, 0, 0, 18, 219, 253, 253, 253, 253, 253, 198, 182, 247, 241, 0, 0, 0, 0, 0, 0, 0, 0, 0, 0, 0, 0, 0, 0, 0, 0, 0, 0, 80, 156, 107, 253, 253, 205, 11, 0, 43, 154, 0, 0, 0, 0, 0, 0, 0, 0, 0, 0, 0, 0, 0, 0, 0, 0, 0, 0, 0, 14, 1, 154, 253, 90, 0, 0, 0, 0, 0, 0, 0, 0, 0, 0, 0, 0, 0, 0, 0, 0, 0, 0, 0, 0, 0, 0, 0, 0, 0, 139, 253, 190, 2, 0, 0, 0, 0, 0, 0, 0, 0, 0, 0, 0, 0, 0, 0, 0, 0, 0, 0, 0, 0, 0, 0, 0, 0, 11, 190, 253, 70, 0, 0, 0, 0, 0, 0, 0, 0, 0, 0, 0, 0, 0, 0, 0, 0, 0, 0, 0, 0, 0, 0, 0, 0, 0, 35, 241, 225, 160, 108, 1, 0, 0, 0, 0, 0, 0, 0, 0, 0, 0, 0, 0, 0, 0, 0, 0, 0, 0, 0, 0, 0, 0, 0, 81, 240, 253, 253, 119, 25, 0, 0, 0, 0, 0, 0, 0, 0, 0, 0, 0, 0, 0, 0, 0, 0, 0, 0, 0, 0, 0, 0, 0, 45, 186, 253, 253, 150, 27, 0, 0, 0, 0, 0, 0, 0, 0, 0, 0, 0, 0, 0, 0, 0, 0, 0, 0, 0, 0, 0, 0, 0, 16, 93, 252, 253, 187, 0, 0, 0, 0, 0, 0, 0, 0, 0, 0, 0, 0, 0, 0, 0, 0, 0, 0, 0, 0, 0, 0, 0, 0, 0, 249, 253, 249, 64, 0, 0, 0, 0, 0, 0, 0, 0, 0, 0, 0, 0, 0, 0, 0, 0, 0, 0, 0, 0, 0, 46, 130, 183, 253, 253, 207, 2, 0, 0, 0, 0, 0, 0, 0, 0, 0, 0, 0, 0, 0, 0, 0, 0, 0, 0, 0, 39, 148, 229, 253, 253, 253, 250, 182, 0, 0, 0, 0, 0, 0, 0, 0, 0, 0, 0, 0, 0, 0, 0, 0, 0, 0, 24, 114, 221, 253, 253, 253, 253, 201, 78, 0, 0, 0, 0, 0, 0, 0, 0, 0, 0, 0, 0, 0, 0, 0, 0, 0, 23, 66, 213, 253, 253, 253, 253, 198, 81, 2, 0, 0, 0, 0, 0, 0, 0, 0, 0, 0, 0, 0, 0, 0, 0, 0, 18, 171, 219, 253, 253, 253, 253, 195, 80, 9, 0, 0, 0, 0, 0, 0, 0, 0, 0, 0, 0, 0, 0, 0, 0, 0, 55, 172, 226, 253, 253, 253, 253, 244, 133, 11, 0, 0, 0, 0, 0, 0, 0, 0, 0, 0, 0, 0, 0, 0, 0, 0, 0, 0, 136, 253, 253, 253, 212, 135, 132, 16, 0, 0, 0, 0, 0, 0, 0, 0, 0, 0, 0, 0, 0, 0, 0, 0, 0, 0, 0, 0, 0, 0, 0, 0, 0, 0, 0, 0, 0, 0, 0, 0, 0, 0, 0, 0, 0, 0, 0, 0, 0, 0, 0, 0, 0, 0, 0, 0, 0, 0, 0, 0, 0, 0, 0, 0, 0, 0, 0, 0, 0, 0, 0, 0, 0, 0, 0, 0, 0, 0, 0, 0, 0, 0, 0, 0, 0, 0, 0, 0, 0, 0, 0, 0, 0, 0, 0, 0, 0, 0, 0, 0, 0, 0, 0, 0, 0, 0, 0, 0]\n"
     ]
    }
   ],
   "source": [
    "print('训练数据的长度为：', len(imdata))\n",
    "print('每个样本的维数为：', len(imdata[0]))\n",
    "print('第一个数据的具体值为：', imdata[0])"
   ]
  },
  {
   "cell_type": "markdown",
   "metadata": {},
   "source": [
    "测试样本采用 [MNIST](http://yann.lecun.com/exdb/mnist/) 数据集，取全部训练样本（60000个）和测试样本（10000个）试验，测试结果显示在(k=1, p=2)时识别误差为 3.09%，在(k=3, p=2)下识别误差为 2.95%。\n",
    "\n",
    "考虑运行时间，本页面只取前100个样本测试，具体代码如下（运行时间约70秒）："
   ]
  },
  {
   "cell_type": "code",
   "execution_count": 6,
   "metadata": {},
   "outputs": [
    {
     "name": "stdout",
     "output_type": "stream",
     "text": [
      "3近邻下错误率为：0.01\n",
      "运行时间为: 48.45615339279175\n"
     ]
    }
   ],
   "source": [
    "import time\n",
    "\n",
    "t1 = time.time()\n",
    "\n",
    "k = 3  #3近邻\n",
    "p = 2\n",
    "is_right = []\n",
    "results = []\n",
    "for i in range(100):\n",
    "    dist_list, point_list, labels_list = knn(tsdata_ar[i], imdata_ar, k, p, imlab_ar)\n",
    "    reslab = decision(labels_list)\n",
    "    results.append(reslab)\n",
    "    if reslab == tslab[i]:\n",
    "        is_right.append(1)\n",
    "    else:\n",
    "        is_right.append(0)\n",
    "\n",
    "error = is_right.count(0) / len(is_right)\n",
    "t2 = time.time()\n",
    "print('{0}近邻下错误率为：{1}'.format(k, error))\n",
    "print('运行时间为:', t2-t1)"
   ]
  },
  {
   "cell_type": "markdown",
   "metadata": {},
   "source": [
    "## 3.1 kd树\n",
    "\n",
    "kd树（k-dimensional tree）是一种便于对k维空间的数据进行快速检索的数据结构。kd树是二叉树，表示对k维空间的一个划分，其每个节点对应于k维空间划分中的一个超矩形区域。利用kd树可以省去对大部分数据点的搜索，从而减少搜索的计算量。\n",
    "\n",
    "注意，此处的 k 为每个节点的维数。"
   ]
  },
  {
   "cell_type": "markdown",
   "metadata": {},
   "source": [
    "## 3.2 构造平衡kd树\n",
    "\n",
    "* 输入：k 维空间数据集 $T=\\{x_1, x_2, \\ldots, x_N\\}$\n",
    "    其中 $x_i=(x_i^(1), x_i^(2), \\ldots, x_i^(k))^T, \\quad i=1,2,\\ldots,N$；\n",
    "    \n",
    "    \n",
    "* 输出： kd 树。\n",
    "\n",
    "（1）开始：构造根节点。\n",
    "    计算 k 个方差，以方差最大的维数为根节点的切分方向，按方差最大的维数对数据集排序，以切分方向的中位数作为当前节点的值。\n",
    "    \n",
    "（2）切分：上一步构建的节点将数据集切分为两个子集。\n",
    "    中位数左边的子集作为该节点的左子节点，右子集作为右子节点。\n",
    "    \n",
    "（3）重复：分别对左子节点、右子节点重复以上步骤，直到所有数据分割完毕。\n",
    "\n",
    "此方法构建的二叉树为的深度为 $\\log_2(N)$。以下为建立kd树的实现："
   ]
  },
  {
   "cell_type": "code",
   "execution_count": 7,
   "metadata": {},
   "outputs": [],
   "source": [
    "#kd树节点\n",
    "class Node:\n",
    "    '''\n",
    "    树的节点对象\n",
    "    属性：\n",
    "        point: 当前节点值，\n",
    "        lchild: 左子节点，\n",
    "        rchild: 右子节点，\n",
    "        dim: 当前节点分割维度\n",
    "    '''\n",
    "    def __init__(self, point, lchild, rchild, dim):\n",
    "        self.point = point\n",
    "        self.lchild = lchild\n",
    "        self.rchild = rchild\n",
    "        self.dim = dim\n",
    "        \n",
    "def kd_build(data):\n",
    "    '''\n",
    "    功能：建立kd树\n",
    "    输入：包含所有样本点的数据组，要求为np.array格式，\n",
    "        每行对应一个样本，每列对应一个维度\n",
    "    输出：Node对象\n",
    "    '''\n",
    "    if not len(data):\n",
    "        point = None\n",
    "        lchild = None\n",
    "        rchild = None\n",
    "        split_dim = None\n",
    "    elif len(data) == 1:\n",
    "        point = data[0]\n",
    "        lchild = None\n",
    "        rchild = None\n",
    "        split_dim = None\n",
    "    elif data.size == len(data):\n",
    "        point = data\n",
    "        lchild = None\n",
    "        rchild = None\n",
    "        split_dim = None\n",
    "    else: \n",
    "        variance_data = np.var(data, axis=0)  #求各个维度的方差\n",
    "        split_dim = np.argsort(variance_data)[-1]  #取方差最大的维度作为分割维度\n",
    "        data = data[data[:,split_dim].argsort()]  #按分割维度对数据排序\n",
    "        point = data[len(data) // 2]  #取排序后的中位数作为当前节点\n",
    "        ldata = data[:len(data) // 2]  #当前节点左边为左区域\n",
    "        rdata = data[len(data) // 2 + 1:]  #当前节点右边为右区域\n",
    "        if ldata.size == 0:\n",
    "            lchild = None\n",
    "        else: \n",
    "            lchild = kd_build(ldata)\n",
    "        if rdata.size == 0:\n",
    "            rchild = None\n",
    "        else:\n",
    "            rchild = kd_build(rdata)\n",
    "    return Node(point, lchild, rchild, split_dim)"
   ]
  },
  {
   "cell_type": "markdown",
   "metadata": {},
   "source": [
    "## 3.3 kd树的最近邻搜索\n",
    "\n",
    "* 输入：已构造的kd树，目标点x；\n",
    "\n",
    "\n",
    "* 输出：x的最近邻点。\n",
    "\n",
    "\n",
    "（1）在kd树中找出包含点x的叶节点：从根节点开始不断向下访问kd树，若目标点x当前维数的坐标小于节点坐标，则移动到左子节点，否则移动到右子节点，直\n",
    "\n",
    "到不存在左子节点或右子节点；注意到此处保存了搜索路径，在后面向上查找时有重要作用。"
   ]
  },
  {
   "cell_type": "code",
   "execution_count": 8,
   "metadata": {},
   "outputs": [],
   "source": [
    "def find_leaf(point, kdtree):\n",
    "    '''\n",
    "    功能：搜索point所在区域的叶节点，同时保存搜索路径;\n",
    "    输入：point: 目标点，为 1*n 的 np.array; \n",
    "        kdtree: kd树;\n",
    "        route: 递归的记录搜索路径，默认为空列表，0为左，1为右;\n",
    "    输出：叶节点, 路径;\n",
    "    例子：\n",
    "        point = np.array([3, 4.5])\n",
    "        data = np.array([[2, 3], [5, 4], [9, 6], [4, 7], [8, 1], [7, 2]])\n",
    "        kdtree = kd_build(data)  \n",
    "        [leaf, route] = find_leaf(point, kdtree)\n",
    "        [leaf.point, route]\n",
    "        [array[(4,7)], [0, 1]] \n",
    "    '''\n",
    "    route = []\n",
    "    while kdtree.lchild and kdtree.rchild:\n",
    "        if point[kdtree.dim] <= kdtree.point[kdtree.dim]:\n",
    "            kdtree = kdtree.lchild\n",
    "            route.append(0)\n",
    "        else:\n",
    "            kdtree = kdtree.rchild\n",
    "            route.append(1)\n",
    "    else:\n",
    "        return kdtree, route"
   ]
  },
  {
   "cell_type": "markdown",
   "metadata": {},
   "source": [
    "（2）以此节点为“当前最近点”。\n",
    "\n",
    "（3）递归地向上回退，在每个节点执行以下操作：\n",
    "\n",
    "    （a）如果该节点保存的实例点比当前点距离目标点更近，则以该实例点为“当前最近点”；\n",
    "    \n",
    "    （b）检查该节点的另一子节点区域内是否有更近的点；具体地，检查该节点的另一子节点的区域是否与以目标点为球心、以目标点与“当前最近点”距离为半径的球体相交；如果相交，可能该节点的另一子节点对应区域内存在距目标点更近的点，移动到另一子节点，接着，递归地进行最近邻搜索。\n",
    " \n",
    "（4）当回退到根节点时，搜索结束，最后的“当前最近点”即为x的最近邻点。"
   ]
  },
  {
   "cell_type": "code",
   "execution_count": 9,
   "metadata": {},
   "outputs": [],
   "source": [
    "def get_distance(point1, point2, p=2):\n",
    "    '''\n",
    "    功能：求两点之间的Lp距离，Lp距离定义如下：\n",
    "    Lp(x1, x2)=sum(|x1-x2|^p)^(1/p), for p>=1\n",
    "    '''\n",
    "    if p < 1:\n",
    "        raise ValueError('p >= 1')\n",
    "    if p == float('inf'):\n",
    "        return np.amax(np.abs(point1 - point2))\n",
    "    elif p == 1:\n",
    "        return np.sum(np.abs(point1 - point2))\n",
    "    else:\n",
    "        return np.power(np.sum(np.abs(point1 - point2) ** p), 1/p)\n",
    "\n",
    "\n",
    "def find_node(kdtree, route):\n",
    "    '''\n",
    "    功能：根据路径找节点\n",
    "    输入：kdtree: kd树;\n",
    "        route: 路径, 路径由0, 1组成的列表，0代表左1代表右;\n",
    "    输出：路径的终点;\n",
    "    例子：\n",
    "        point = np.array([3, 4.5])\n",
    "        data = np.array([[2, 3], [5, 4], [9, 6], [4, 7], [8, 1], [7, 2]])\n",
    "        kdtree = kd_build(data)\n",
    "        node = find_node(kdtree, [0, 1])\n",
    "        node.point\n",
    "        array([4,7])\n",
    "    '''\n",
    "    for i in range(len(route)):\n",
    "        if route[i] == 0:\n",
    "            try:\n",
    "                kdtree = kdtree.lchild\n",
    "            except AttributeError:\n",
    "                print(route)\n",
    "        else:\n",
    "            kdtree = kdtree.rchild\n",
    "    return kdtree\n",
    "\n",
    "    \n",
    "def nn_search(point, kdtree, p=2):\n",
    "    '''\n",
    "    功能：求点在 kd 树中 最近邻点;\n",
    "    输入：point: 目标点为 1*n 的 np.array; \n",
    "        kdtree: kd树对象;\n",
    "        p: Lp 距离度量参数, 默认为2, 即欧式距离;\n",
    "    输出：最近距离，最近邻点;\n",
    "    '''\n",
    "    leaf, route = find_leaf(point, kdtree)\n",
    "    nearest_distance = get_distance(point, leaf.point, p)\n",
    "    nn = leaf.point\n",
    "    for i in range(len(route)):\n",
    "        parent = find_node(kdtree, route[:-(i+1)])\n",
    "        if route[-(i+1)] and parent.lchild:\n",
    "            brother = parent.lchild\n",
    "        elif not route[-(i+1)] and parent.rchild:\n",
    "            brother = parent.rchild\n",
    "        else:\n",
    "            brother = None\n",
    "        current_distance = get_distance(point, parent.point, p)\n",
    "        if current_distance < nearest_distance:\n",
    "            nearest_distance = current_distance\n",
    "            nn = parent.point\n",
    "        if brother:\n",
    "            dist = np.abs(parent.point[parent.dim] - point[parent.dim])\n",
    "            if nearest_distance > dist:  #交割\n",
    "                current_distance, current_point = nn_search(point, brother, p)\n",
    "                if current_distance < nearest_distance:\n",
    "                    nearest_distance = current_distance\n",
    "                    nn = current_point\n",
    "    return nearest_distance, nn"
   ]
  },
  {
   "cell_type": "markdown",
   "metadata": {},
   "source": [
    "## 3.4 测试分析\n",
    "\n",
    "### 例1：以一组二维数据为例："
   ]
  },
  {
   "cell_type": "code",
   "execution_count": 10,
   "metadata": {},
   "outputs": [],
   "source": [
    "%matplotlib inline"
   ]
  },
  {
   "cell_type": "code",
   "execution_count": 11,
   "metadata": {},
   "outputs": [
    {
     "name": "stdout",
     "output_type": "stream",
     "text": [
      "最近距离 0.7000000000000002\n",
      "最近邻点 [3.  4.3]\n"
     ]
    },
    {
     "name": "stderr",
     "output_type": "stream",
     "text": [
      "D:\\Anaconda3\\lib\\site-packages\\matplotlib\\cbook\\deprecation.py:106: MatplotlibDeprecationWarning: Adding an axes using the same arguments as a previous axes currently reuses the earlier instance.  In a future version, a new instance will always be created and returned.  Meanwhile, this warning can be suppressed, and the future behavior ensured, by passing a unique label to each axes instance.\n",
      "  warnings.warn(message, mplDeprecation, stacklevel=1)\n"
     ]
    },
    {
     "data": {
      "text/plain": [
       "(0.6, 9.4, 0.6499999999999999, 8.35)"
      ]
     },
     "execution_count": 11,
     "metadata": {},
     "output_type": "execute_result"
    },
    {
     "data": {
      "image/png": "[encoded data removed]",
      "text/plain": [
       "<matplotlib.figure.Figure at 0x25a166df128>"
      ]
     },
     "metadata": {},
     "output_type": "display_data"
    }
   ],
   "source": [
    "import matplotlib.pyplot as plt\n",
    "from matplotlib.patches import Ellipse, Circle\n",
    "\n",
    "\n",
    "data = [[2, 3], [5, 4], [9, 6], [4, 7], [8, 1], [7, 2],\n",
    "    [5, 6], [3, 6], [7, 8], [3, 4], [1, 1], [3, 4.3]]\n",
    "data = np.array(data)\n",
    "point = np.array([3, 5])\n",
    "kdtree = kd_build(data)\n",
    "nd, nn = nn_search(point, kdtree, 2)\n",
    "\n",
    "print('最近距离', nd)\n",
    "print('最近邻点', nn)\n",
    "\n",
    "fig = plt.figure()\n",
    "plt.plot(data[:, 0], data[:, 1], 'o')\n",
    "plt.plot(point[0], point[1],'ro')\n",
    "ax = fig.add_subplot(111)\n",
    "cir1 = Circle(xy = (point[0], point[1]), radius = nd, alpha = 0.4)\n",
    "ax.add_patch(cir1)\n",
    "plt.axis('scaled')\n",
    "plt.axis('equal') "
   ]
  },
  {
   "cell_type": "markdown",
   "metadata": {},
   "source": [
    "### 例2：看看3维数据的表现："
   ]
  },
  {
   "cell_type": "code",
   "execution_count": 12,
   "metadata": {},
   "outputs": [
    {
     "name": "stdout",
     "output_type": "stream",
     "text": [
      "最近距离 1.118033988749895\n",
      "最近邻点 [3 4 5]\n"
     ]
    },
    {
     "data": {
      "text/plain": [
       "<mpl_toolkits.mplot3d.art3d.Line3DCollection at 0x25a168a2908>"
      ]
     },
     "execution_count": 12,
     "metadata": {},
     "output_type": "execute_result"
    },
    {
     "data": {
      "image/png": "[encoded data removed]",
      "text/plain": [
       "<matplotlib.figure.Figure at 0x25a1680fcf8>"
      ]
     },
     "metadata": {},
     "output_type": "display_data"
    }
   ],
   "source": [
    "from mpl_toolkits.mplot3d import Axes3D\n",
    "\n",
    "data3 = [[2, 3, 2], [5, 4, 5], [9, 6, 1], [4, 7, 3], [8, 1, 6], [7, 2, 5],\n",
    "    [5, 6, 4], [3, 6, 8], [7, 8, 2], [3, 4, 5], [1, 1, 6], [3, 4, 9]]\n",
    "data3 = np.array(data3)\n",
    "point3 = np.array([3, 5, 4.5])\n",
    "kdtree3 = kd_build(data3)\n",
    "nd3, nn3 = nn_search(point3, kdtree3, 2)\n",
    "print('最近距离', nd3)\n",
    "print('最近邻点', nn3)\n",
    "\n",
    "x, y, z = data3[:, 0], data3[:, 1], data3[:,2]\n",
    "ax3 = plt.axes(projection='3d')  # 创建一个三维的绘图工程\n",
    "ax3.scatter3D(x, y, z, c='b')  # 绘制数据点\n",
    "ax3.scatter3D(point3[0], point3[1], point3[2], c='r')  # 绘制数据点\n",
    "\n",
    "# center and radius\n",
    "center = point3\n",
    "radius = nd3\n",
    "# data\n",
    "u = np.linspace(0, 2 * np.pi, 100)\n",
    "v = np.linspace(0, np.pi, 100)\n",
    "x = radius * np.outer(np.cos(u), np.sin(v)) + center[0]\n",
    "y = radius * np.outer(np.sin(u), np.sin(v)) + center[1]\n",
    "z = radius * np.outer(np.ones(np.size(u)), np.cos(v)) + center[2]\n",
    "\n",
    "ax3.plot_wireframe(x, y, z,  rstride=12, cstride=12, color='y')\n"
   ]
  },
  {
   "cell_type": "markdown",
   "metadata": {},
   "source": [
    "### 例3：以 MNIST 数据集测试"
   ]
  },
  {
   "cell_type": "markdown",
   "metadata": {},
   "source": [
    "由于数据维数大，运行时间长，首先定义一个进度条类用于实时显示处理的进度。"
   ]
  },
  {
   "cell_type": "code",
   "execution_count": 13,
   "metadata": {},
   "outputs": [],
   "source": [
    "import sys\n",
    "\n",
    "class ShowProcess():\n",
    "    \"\"\"\n",
    "    显示处理进度的类\n",
    "    调用该类相关函数即可实现处理进度的显示\n",
    "    \"\"\"\n",
    "    i = 0 # 当前的处理进度\n",
    "    max_steps = 0 # 总共需要处理的次数\n",
    "    max_arrow = 50 #进度条的长度\n",
    "\n",
    "    # 初始化函数，需要知道总共的处理次数\n",
    "    def __init__(self, max_steps):\n",
    "        self.max_steps = max_steps\n",
    "        self.i = 0\n",
    "\n",
    "    # 显示函数，根据当前的处理进度i显示进度\n",
    "    # 效果为[>>>>>>>>>>>>>>>>>>>>>>>>>>>>>>>>>>>>>>>>>>>>>>>>>>]100.00%\n",
    "    def show_process(self, i=None):\n",
    "        if i is not None:\n",
    "            self.i = i\n",
    "        else:\n",
    "            self.i += 1\n",
    "        num_arrow = int(self.i * self.max_arrow / self.max_steps) #计算显示多少个'>'\n",
    "        num_line = self.max_arrow - num_arrow #计算显示多少个'-'\n",
    "        percent = self.i * 100.0 / self.max_steps #计算完成进度，格式为xx.xx%\n",
    "        process_bar = '[' + '>' * num_arrow + '-' * num_line + ']'\\\n",
    "                      + '%.2f' % percent + '%' + '\\r' #带输出的字符串，'\\r'表示不换行回到最左边\n",
    "        sys.stdout.write(process_bar) #这两句打印字符到终端\n",
    "        sys.stdout.flush()\n",
    "\n",
    "    def close(self, words='done'):\n",
    "        print(' ')\n",
    "        print(words)\n",
    "        self.i = 0"
   ]
  },
  {
   "cell_type": "markdown",
   "metadata": {},
   "source": [
    "从测试集取100个点进行测试，得到最近邻误差为3%："
   ]
  },
  {
   "cell_type": "code",
   "execution_count": 14,
   "metadata": {},
   "outputs": [
    {
     "name": "stdout",
     "output_type": "stream",
     "text": [
      " >>>>>>>>>>>>>>>>>>>>>>>>>>>>>>>>>>>>>>>>>>>>>>>>>>]100.00%\n",
      "done\n",
      "最近邻下错误率为： 0.0\n",
      "运行时间为: 92.87096619606018\n"
     ]
    }
   ],
   "source": [
    "t1 = time.time()\n",
    "\n",
    "kdtree = kd_build(imdata_ar)\n",
    "\n",
    "is_right = []\n",
    "results = []\n",
    "max_steps = 100\n",
    "process_bar = ShowProcess(max_steps) # 1.在循环前定义类的实体， max_steps是总的步数 \n",
    "for i in range(100):\n",
    "    point = tsdata_ar[i]\n",
    "    nn = nn_search(point, kdtree)\n",
    "    res = imlab[imdata.index(nn[1].tolist())]\n",
    "    results.append(res)\n",
    "    if res == tslab[i]:\n",
    "        is_right.append(1)\n",
    "    else:\n",
    "        is_right.append(0)\n",
    "    process_bar.show_process()      # 2.显示当前进度\n",
    "\n",
    "error = is_right.count(0) / len(is_right)\n",
    "process_bar.close('done')            # 3.处理结束后显示消息  \n",
    "t2 = time.time()\n",
    "print('最近邻下错误率为：',error)\n",
    "print('运行时间为:', t2-t1)"
   ]
  },
  {
   "cell_type": "markdown",
   "metadata": {},
   "source": [
    "## 3.5 kd 树的k近邻搜索\n",
    "\n",
    "相比最近邻，k 近邻需要维护 k 个近邻点数据，并且进行近邻比较时，应与当前 k 个近邻点的最大距离相比，其余步骤不变。这里采用堆进行 k 近邻数据的维护。数据格式为`(距离， 点)`，由于 Python 中未提供大顶堆，因此这里的距离取负，以实现大顶堆的功能。具体实现如下："
   ]
  },
  {
   "cell_type": "code",
   "execution_count": 15,
   "metadata": {},
   "outputs": [],
   "source": [
    "import heapq\n",
    "\n",
    "def kd_search(point, kdtree, k=1, p=2):\n",
    "    '''\n",
    "    功能：求点在 kd 树中 k 个近邻点;\n",
    "    输入：point: 目标点为 1*n 的 np.array; \n",
    "        kdtree: kd树对象;\n",
    "        k: 近邻点数 k, 默认为1, 即最近邻;\n",
    "        p: Lp 距离度量参数, 默认为2, 即欧式距离;\n",
    "    输出：[[距离1， 点1], [距离2， 点2],...,[距离k， 点k]];\n",
    "    '''\n",
    "    leaf, route = find_leaf(point, kdtree)\n",
    "    nearest_distance = get_distance(point, leaf.point, p)\n",
    "    point_list = [] #建立空堆，用于保存距离及k近邻点，python只有小顶堆，采用取负的形式实现“大顶堆”\n",
    "    heapq.heappush(point_list, [-nearest_distance, list(leaf.point)])\n",
    "    for i in range(len(route)): #按照搜索路径由下向上迭代寻找近邻点\n",
    "        parent = find_node(kdtree, route[:-(i+1)])\n",
    "        if route[-(i+1)] and parent.lchild: #若当前节点为其父节点的右节点，且其父节点的左子节点存在，则兄弟节点为其父节点的左子节点\n",
    "            brother = parent.lchild\n",
    "        elif not route[-(i+1)] and parent.rchild: #若当前节点为其父节点的左节点，且其父节点的右子节点存在，则兄弟节点为其父节点的右子节点\n",
    "            brother = parent.rchild\n",
    "        else: #否则当前节点无兄弟节点\n",
    "            brother = None\n",
    "        current_distance = get_distance(point, parent.point, p)\n",
    "        if len(point_list) < k: #成对的取前k(k为偶数时是k+1)个父节点和兄弟节点存入堆中\n",
    "            heapq.heappush(point_list, [-current_distance, list(parent.point)])\n",
    "            if brother:\n",
    "                current_distance = get_distance(point, brother.point, p)\n",
    "                heapq.heappush(point_list, [-current_distance, list(brother.point)])\n",
    "        else:\n",
    "            heapq.heappushpop(point_list, [-current_distance, list(parent.point)])\n",
    "            if brother:\n",
    "                dist = np.abs(parent.point[parent.dim] - point[parent.dim]) #当前点到其父节点的距离\n",
    "                if -point_list[0][0] > dist: #堆中最大距离大于当前点到其父节点的距离（球体相交）\n",
    "                    temp_list = kd_search(point, brother, k, p)  #递归地在子空间进行近邻搜索\n",
    "                    for i in range(len(temp_list)): #将堆中的距离变为正\n",
    "                        temp_list[i][0] = -temp_list[i][0]\n",
    "                    for i in temp_list:\n",
    "                        heapq.heappushpop(point_list, i)  #更新point_list\n",
    "    for i in range(len(point_list)): #将堆中的距离变为正\n",
    "        point_list[i][0] = -point_list[i][0]\n",
    "    return heapq.nsmallest(min(k, len(point_list)), point_list)\n",
    "\n",
    "def decision(labels_list):\n",
    "    count = np.bincount(labels_list)\n",
    "    return np.argmax(count)"
   ]
  },
  {
   "cell_type": "markdown",
   "metadata": {},
   "source": [
    "同样的，采用 MNIST 数据进行测试，实际表现来看时间花费甚至比原始的 k 近邻更多。猜测主要原因是数据维数太大，当进行相交球判断时，球半径往往是大于点到超平面的距离的，需要对每个节点的子空间进行递归的搜索，浪费大量时间。"
   ]
  },
  {
   "cell_type": "code",
   "execution_count": 16,
   "metadata": {},
   "outputs": [
    {
     "name": "stdout",
     "output_type": "stream",
     "text": [
      " >>>>>>>>>>>>>>>>>>>>>>>>>>>>>>>>>>>>>>>>>>>>>>>>>>]100.00%\n",
      "done\n",
      "7近邻下错误率为：0.0\n",
      "运行时间为: 52.48267722129822\n"
     ]
    }
   ],
   "source": [
    "t1 = time.time()\n",
    "\n",
    "is_right = []\n",
    "result = []\n",
    "k, p = 7, 2\n",
    "max_steps = 10\n",
    "process_bar = ShowProcess(max_steps) # 1.在循环前定义类的实体， max_steps是总的步数 \n",
    "for i in range(10):\n",
    "    lab_list = []\n",
    "    point = tsdata_ar[i]\n",
    "    k_nn = kd_search(point, kdtree, k, p)\n",
    "    for j in range(len(k_nn)):\n",
    "        res = imlab[imdata.index(k_nn[j][1])]\n",
    "        lab_list.append(res)\n",
    "    result.append(decision(lab_list))\n",
    "    if result[-1] == tslab[i]:\n",
    "        is_right.append(1)\n",
    "    else:\n",
    "        is_right.append(0)\n",
    "    process_bar.show_process()      # 2.显示当前进度\n",
    "\n",
    "error = is_right.count(0) / len(is_right)\n",
    "process_bar.close('done')            # 3.处理结束后显示消息  \n",
    "t2 = time.time()\n",
    "print('{0}近邻下错误率为：{1}'.format(k, error))\n",
    "print('运行时间为:', t2-t1)\n"
   ]
  },
  {
   "cell_type": "markdown",
   "metadata": {},
   "source": [
    "为了验证猜测，采用遍历的方法对前100个数据求其最近邻距离。"
   ]
  },
  {
   "cell_type": "code",
   "execution_count": 17,
   "metadata": {},
   "outputs": [
    {
     "name": "stdout",
     "output_type": "stream",
     "text": [
      " >>>>>>>>>>>>>>>>>>>>>>>>>>>>>>>>>>>>>>>>>>>>>>>>>>]100.00%\n",
      "done\n",
      "最近邻距离为： [676, 1162, 321, 1221, 1092, 298, 1302, 1289, 1735, 991, 1100, 1464, 828, 896, 621, 1416, 881, 809, 1634, 912, 966, 951, 1211, 1212, 1114, 1388, 1045, 1039, 1153, 489, 1217, 431, 804, 1384, 804, 1530, 1247, 321, 1280, 480, 439, 1031, 1040, 1500, 1131, 1263, 635, 1312, 1272, 1054, 953, 1285, 1219, 1168, 1242, 730, 1204, 390, 901, 1027, 1220, 1657, 1042, 1326, 1466, 1029, 1254, 1198, 958, 873, 1025, 1013, 1542, 1123, 437, 982, 932, 1366, 981, 959, 1074, 1081, 1252, 857, 1458, 1312, 775, 1480, 1051, 589, 1081, 908, 1045, 1173, 709, 1653, 705, 1263, 1122, 990]\n",
      "运行时间为: 47.34333539009094\n"
     ]
    }
   ],
   "source": [
    "t1 = time.time()\n",
    "\n",
    "k = 1 \n",
    "p = 2\n",
    "dist_list = []\n",
    "max_steps = 100\n",
    "process_bar = ShowProcess(max_steps) # 1.在循环前定义类的实体， max_steps是总的步数 \n",
    "for i in range(100):\n",
    "    dist, point, labels = knn(tsdata_ar[i], imdata_ar, k, p, imlab_ar)\n",
    "    dist_list.append(int(dist[0]))\n",
    "    process_bar.show_process()      # 2.显示当前进度\n",
    "    \n",
    "t2 = time.time()\n",
    "process_bar.close('done')            # 3.处理结束后显示消息 \n",
    "print('最近邻距离为：', dist_list)\n",
    "print('运行时间为:', t2-t1)"
   ]
  },
  {
   "cell_type": "markdown",
   "metadata": {},
   "source": [
    "可以看出几乎所有的最近距离都大于255，而点到超平面的距离最大才为 255-0=255，也就是说在进行相交球判定时，几乎所有判定的结果都是相交，特别对于根节点，如果判定相交则要在另一方向进行递归的求最近邻，整个寻找最近邻的过程相当于将所有样本遍历了一遍，再加上各种条件判断和算法复杂性升高，时间超过线性的k近邻也就不难理解了。所以，这种方法并不适合高维数的情况。\n",
    "\n",
    "对于kd树的这种缺点，很多学者提出改进的方法，例如BBF算法，更多资料可以参考 https://blog.csdn.net/v_july_v/article/details/8203674 。"
   ]
  }
 ],
 "metadata": {
  "kernelspec": {
   "display_name": "Python 3",
   "language": "python",
   "name": "python3"
  },
  "language_info": {
   "codemirror_mode": {
    "name": "ipython",
    "version": 3
   },
   "file_extension": ".py",
   "mimetype": "text/x-python",
   "name": "python",
   "nbconvert_exporter": "python",
   "pygments_lexer": "ipython3",
   "version": "3.6.4"
  }
 },
 "nbformat": 4,
 "nbformat_minor": 2
}
